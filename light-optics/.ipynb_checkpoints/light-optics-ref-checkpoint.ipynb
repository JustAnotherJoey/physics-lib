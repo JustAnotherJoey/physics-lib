{
 "cells": [
  {
   "cell_type": "markdown",
   "id": "220eb0b9",
   "metadata": {},
   "source": [
    "# Light and Optics\n",
    "\n",
    "## Table of Contents\n",
    "\n",
    "### 1.) Classical/Geometric Optics \n",
    "\n",
    "### 2.) \n",
    "\n",
    "### 3.) \n",
    "\n",
    "### 4.) \n",
    "\n",
    "### 5.) \n",
    "\n",
    "## Classical/Geometric Optics\n",
    "\n",
    "Classical optics was developed in the early 18th century by figures such as Isaac Newton and Huygens. Classical optics treats light as a particle and typically discludes phenomanae relating to interference or other wave phenomanae.\n",
    "\n",
    "If we consider light to be a particle traveling in a way we can describe geometrically, then light must interact with matter in one of three ways when it reaches matter. These behaviours include refraction, reflection, and absorbtion. The speed of light in a particular medium is constant and bounded above by the speed of light in a vacuum. When light enters a medium with a higher index of refraction, it slows down. The index of refraction is given by the following expression.\n",
    "\n",
    "$$ n = \\frac{c}{v} $$\n",
    "Where c is the speed of light and v is the velocity of the particle in the given medium. The index of refraction is a dimensionless quantity which determines the ratio of the speed in the given medium relative to the speed of light in a vacuum. \n",
    "\n",
    "We now proceed to the laws of reflection and refraction. The law of relfection states that the angle of reflection is equal to the angle of incidence. We express this by the following\n",
    "$$ \\theta_r = \\theta_a $$\n",
    "\n",
    "When light is refracted, it is described by the law of refraction. The law of refraction was first discovered experimentally by Snell, although some claim he may be taking undue credit. Snell's Law states that the ratio of the sines of the angles in mediums a and b is equal to the inverse ratio of the two indexes of refractions of the respective mediums. This is expressed symbollically as \n",
    "\n",
    "$$ n_asin(\\theta_a) = n_bsin(\\theta_b) \\text{  or  } \\frac{sin(\\theta_a)}{sin(\\theta_b)} = \\frac{n_b}{n_a} $$\n",
    "\n",
    "When lights is refracted"
   ]
  },
  {
   "cell_type": "code",
   "execution_count": null,
   "id": "262032d1",
   "metadata": {},
   "outputs": [],
   "source": [
    "def calc_index_refraction(v):\n",
    "    c = 2.99e10\n",
    "    n = c/v\n",
    "    return n\n",
    "\n"
   ]
  }
 ],
 "metadata": {
  "kernelspec": {
   "display_name": "Python 3",
   "language": "python",
   "name": "python3"
  },
  "language_info": {
   "codemirror_mode": {
    "name": "ipython",
    "version": 3
   },
   "file_extension": ".py",
   "mimetype": "text/x-python",
   "name": "python",
   "nbconvert_exporter": "python",
   "pygments_lexer": "ipython3",
   "version": "3.8.8"
  }
 },
 "nbformat": 4,
 "nbformat_minor": 5
}
