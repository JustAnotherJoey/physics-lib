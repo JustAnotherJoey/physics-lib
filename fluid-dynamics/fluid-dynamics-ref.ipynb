{
 "cells": [
  {
   "cell_type": "markdown",
   "id": "1bb23ed8",
   "metadata": {},
   "source": [
    "# Fluid Dynamics"
   ]
  },
  {
   "cell_type": "code",
   "execution_count": null,
   "id": "f11bd53e",
   "metadata": {},
   "outputs": [],
   "source": []
  }
 ],
 "metadata": {
  "kernelspec": {
   "display_name": "Python 3",
   "language": "python",
   "name": "python3"
  },
  "language_info": {
   "codemirror_mode": {
    "name": "ipython",
    "version": 3
   },
   "file_extension": ".py",
   "mimetype": "text/x-python",
   "name": "python",
   "nbconvert_exporter": "python",
   "pygments_lexer": "ipython3",
   "version": "3.8.8"
  }
 },
 "nbformat": 4,
 "nbformat_minor": 5
}
