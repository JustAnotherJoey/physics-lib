{
 "cells": [
  {
   "cell_type": "markdown",
   "id": "8ff606ca",
   "metadata": {},
   "source": [
    "# Electricity and Magentism\n",
    "\n",
    "The purpose of this document is to serve as a reference for E&M concepts, visualize important phenomanae in E&M, and write up useful information in LaTex.\n",
    "\n",
    "## Outline\n",
    "\n",
    "### 0.) Electrostatics\n",
    "\n",
    "### 1.) Maxwell's Equations -- Overview\n",
    "\n",
    "### 2.) Surface Integrals, Line Integrals, Flux, and Circulation\n",
    "\n",
    "### 3.) Gauss's Law for electricity\n",
    "\n",
    "### 4.) Gauss's Law for magnetism\n",
    "\n",
    "### 5.) Faraday's Law of Induction\n",
    "\n",
    "### 6.) Ampere's Circuital Law\n",
    "\n",
    "## Electrostatics\n",
    "The beginning of E&M must begin with the introduction of the fundamental property of charge. Charge is a property of matter that influences how it interacts with other matter. Just as the mass of an object will impact its dynamics and how it interacts with other pieces of matter with mass, charge will do the same thing. Charge is a fundamental property of matter, but it can be difficult to understand relative to other fundamental properties since it is not a fundamental property that people have much anecdotal experience (although the advent of cheap technology has increased this familiariaty somewhat). For example, most people have anecdotal experience moving objects with a variety of differnt masses and observing how the weight of the object and the distribution of that weight impacts how it will move. A lot fewer people have anecdotal experience dealing with charged objects, but there are areas in which people have some experience. If you were fortunate, you had the opportunity to play with a balloon or comb your hair as a kid, and each of those experiences allow people to experiment with charge first hand (Vigorously rub either object on your hair and notice that if you stick that object toward another friend's hair without touching, the hair will have an observable reaction). Although the property of charge is one that can be taken for granted by many, it is of significant practical importance. Electrons, small particles that have charge, are the basis for many of the chemical reactions that occur between different types of matter. The periodic table of elements is arranged in a way where elements of a given column have a similar valence shell profile of electrons. The structure of the valence shell of matter is one of the most important factors that goes into determining how matter will interact with other matter.\n",
    "\n",
    "Two charges exert a force on each other that is proportional to the inverse square of the distance of those two charges. Moreover, the force exerted on a particular charge by a group of charges is the sum of forces exerted by each of the pairs of charges. The relationship between force, charge, and distance is known as Coloumb's Law and this neat property of calculating the force due to groups of charges is known as linearity. We denote Coloumb's law as \n",
    "$$ F = k * \\frac{q_1q_2}{r^2} $$\n",
    "where k is the proportionality constant, the q's are the respective charges, and r is the radial distance between the two charges. \n",
    "\n",
    "All electric charges create an electric field. Electric fields exert forces on charged matter. The electric field created by a point charge can be represented as \n",
    "$$ E = \\frac{k*q}{r^2} $$\n",
    "\n",
    "Electric fields have flux through regions of space that depend entirely on the charge enclosed within that region of space. We represent this as \n",
    "$$ \\Psi_e = \\int E \\cdot dA = \\frac{q}{\\epsilon_0} $$\n",
    "\n",
    "The work done by an electric field or done by the electrostatic force by a charged particle is defined as \n",
    "$$ W = \\int_a^b F \\cdot dl $$\n",
    "For a uniform electric field, this is \n",
    "$$ W = F * d = q_0 * E * d $$\n",
    "For two point charges q1 and q2, this is \n",
    "$$ W = \\int_{r_a}^{r_b} \\frac{1}{4\\pi\\epsilon_0} \\frac{q_1q_2}{r^2} $$"
   ]
  },
  {
   "cell_type": "code",
   "execution_count": null,
   "id": "c9c46ca0",
   "metadata": {},
   "outputs": [],
   "source": []
  },
  {
   "cell_type": "markdown",
   "id": "c1039a8e",
   "metadata": {},
   "source": [
    "## Maxwell's Equations\n",
    "\n",
    "Maxwell's Equations are a set of differential equations (or integral equations if you are in to that stuff) that can be used to formulate and describe classical E&M theory. In particular, they tell us how charges and currents generate electric and magentic fields, respectively. \n",
    "\n",
    "Many traditional treatments of E&M begin with Coloumb's Law and a variety of seemingly scattered electrical phenomanae that would eventually get unified under these equations. My opinion is that this approach is great for getting a good physical intuition of isolated phenomanae. Richard Feynman, in his infamous Feynman Lecture's, begins with Maxwell's Equations. My opinion is that this approach emphasizes the interconnectedness of E&M phenomanae from the start and gives people a good idea of the toolkit that they will be using, namely differential equations (or integral equations if you are a little math demon). \n",
    "\n",
    "Without further ado, here are the famous equations of Maxwell in differential equation form (with a little help from friends).\n",
    "$$ \\nabla \\cdot \\textbf{E} = \\frac{\\rho}{\\epsilon_0} $$\n",
    "$$ \\nabla \\cdot \\textbf{B} = 0 $$\n",
    "$$ \\nabla \\times \\textbf{E} = -\\frac{1}{c} \\frac{\\partial \\textbf{B}}{\\partial t} $$\n",
    "$$ \\nabla \\times \\textbf{B} = \\frac{1}{c} (4\\pi\\textbf{J} + \\frac{\\partial \\textbf{E}}{\\partial t}) $$\n",
    "\n",
    "And here are the same equations expressed in integral form\n",
    "$$ \\int \\int \\limits_{C(S)} fd{\\textbf l} $$ "
   ]
  },
  {
   "cell_type": "code",
   "execution_count": null,
   "id": "29647a57",
   "metadata": {},
   "outputs": [],
   "source": []
  }
 ],
 "metadata": {
  "kernelspec": {
   "display_name": "Python 3",
   "language": "python",
   "name": "python3"
  },
  "language_info": {
   "codemirror_mode": {
    "name": "ipython",
    "version": 3
   },
   "file_extension": ".py",
   "mimetype": "text/x-python",
   "name": "python",
   "nbconvert_exporter": "python",
   "pygments_lexer": "ipython3",
   "version": "3.8.8"
  }
 },
 "nbformat": 4,
 "nbformat_minor": 5
}
