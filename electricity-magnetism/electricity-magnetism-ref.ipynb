{
 "cells": [
  {
   "cell_type": "markdown",
   "id": "8ff606ca",
   "metadata": {},
   "source": [
    "# Electricity and Magentism\n",
    "\n",
    "The purpose of this document is to serve as a reference for E&M concepts, visualize important phenomanae in E&M, and write up useful information in LaTex.\n",
    "\n",
    "## Outline\n",
    "\n",
    "### 1.) Maxwell's Equations -- Overview\n",
    "\n",
    "### 2.) Surface Integrals, Line Integrals, Flux, and Circulation\n",
    "\n",
    "### 3.) Gauss's Law for electricity\n",
    "\n",
    "### 4.) Gauss's Law for magnetism\n",
    "\n",
    "### 5.) Faraday's Law of Induction\n",
    "\n",
    "### 6.) Ampere's Circuital Law\n",
    "\n",
    "## Maxwell's Equations\n",
    "\n",
    "Maxwell's Equations are a set of differential equations (or integral equations if you are in to that stuff) that can be used to formulate and describe classical E&M theory. In particular, they tell us how charges and currents generate electric and magentic fields, respectively. \n",
    "\n",
    "Many traditional treatments of E&M begin with Coloumb's Law and a variety of seemingly scattered electrical phenomanae that would eventually get unified under these equations. My opinion is that this approach is great for getting a good physical intuition of isolated phenomanae. Richard Feynman, in his infamous Feynman Lecture's, begins with Maxwell's Equations. My opinion is that this approach emphasizes the interconnectedness of E&M phenomanae from the start and gives people a good idea of the toolkit that they will be using, namely differential equations (or integral equations if you are a little math demon). \n",
    "\n",
    "Without further ado, here are the famous equations of Maxwell in differential equation form (with a little help from friends).\n",
    "$$ \\nabla \\cdot \\textbf{E} = \\frac{\\rho}{\\epsilon_0} $$\n",
    "$$ \\nabla \\cdot \\textbf{B} = 0 $$\n",
    "$$ \\nabla \\times \\textbf{E} = -\\frac{1}{c} \\frac{\\partial \\textbf{B}}{\\partial t} $$\n",
    "$$ \\nabla \\times \\textbf{B} = \\frac{1}{c} (4\\pi\\textbf{J} + \\frac{\\partial \\textbf{E}}{\\partial t}) $$\n",
    "\n",
    "And here are the same equations expressed in integral form\n",
    "$$ \\int \\int \\limits_{C(S)} fd{\\textbf l} $$ "
   ]
  },
  {
   "cell_type": "code",
   "execution_count": null,
   "id": "c9c46ca0",
   "metadata": {},
   "outputs": [],
   "source": []
  }
 ],
 "metadata": {
  "kernelspec": {
   "display_name": "Python 3",
   "language": "python",
   "name": "python3"
  },
  "language_info": {
   "codemirror_mode": {
    "name": "ipython",
    "version": 3
   },
   "file_extension": ".py",
   "mimetype": "text/x-python",
   "name": "python",
   "nbconvert_exporter": "python",
   "pygments_lexer": "ipython3",
   "version": "3.8.8"
  }
 },
 "nbformat": 4,
 "nbformat_minor": 5
}
